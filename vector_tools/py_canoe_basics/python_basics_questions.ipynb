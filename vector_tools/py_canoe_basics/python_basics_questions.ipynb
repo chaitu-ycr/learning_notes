{
 "cells": [
  {
   "cell_type": "markdown",
   "metadata": {},
   "source": [
    "# questions on python basics\n",
    "\n",
    "## tuple\n",
    "* what is `tuple` ? explain about `tuple`.\n",
    "* create a `tuple` variable with different data items.\n",
    "* how to search whether aparticular `item` present in `tuple` ?\n",
    "\n",
    "## list\n",
    "* what is `list` ? explain about `list`.\n",
    "* what is the difference between `tuple` and `list` ?\n",
    "* create a `list` variable with different data items.\n",
    "* write code to add, remove, update, merge `list` variable ?\n",
    "* create a `list` valiable with comprehensions\n",
    "* how to search whether aparticular `item` present in `list` ?\n",
    "\n",
    "## set\n",
    "* what is `set` ? explain about `set`.\n",
    "* what is the difference between `tuple`, `list`  and `set`?\n",
    "* create a `set` variable with different data items.\n",
    "* write code to add, remove, update, merge `set` variable ?\n",
    "* create a `set` valiable with comprehensions\n",
    "* how to search whether aparticular `item` present in `set` ?\n",
    "## dictionary\n",
    "* what is `dictionary` ? explain about `dictionary`.\n",
    "* create a `dictionary` variable with different data items.\n",
    "* write code to add, remove, update, merge `dictionary` variable ?\n",
    "* create a `dictionary` valiable with comprehensions\n",
    "* how to search whether aparticular `key` present in `dictionary` ?\n",
    "\n",
    "## string\n",
    "* what is `string` ? explain about `string`.\n",
    "* create a `string` variable.\n",
    "* write code to append `string` variables ?\n",
    "* use `join()` funtions to join list of strings.\n",
    "* how to search a character/word in `string` ?\n",
    "* how to split `string` based on a character?\n",
    "* how to replace characters/word in string ?\n",
    "* explain about formatting in strings.\n",
    "\n",
    "## functions\n",
    "* how to create a function which prints *hello world!*?\n",
    "* create a function which returns suare of a number.\n",
    "* create a function which can take any number of arguments. and print all the received arguments when function called.\n",
    "\n",
    "## exceptions\n",
    "* what is exception in python ? and how to handle excepions ?\n",
    "* write python code to handle `DivisionByZero` exception.\n",
    "* write python code to handel `FileNotFound` exception.\n",
    "\n",
    "## modules\n",
    "* what is module in python ?\n",
    "* write modules which contains global variables and functions ?\n",
    "* how to import module in another module ?\n",
    "* write example code to import a module.\n",
    "* what is the use of `time.sleep` method in python ?\n",
    "\n",
    "## class and method\n",
    "* what is class ?\n",
    "* what is method ?\n",
    "* what is attribute ?\n",
    "* write a class consisting of methods and attributes.\n",
    "* how to use class object and its methods ? write an example to explain.\n",
    "* what is inheritence ? and how to inherit a class ?\n",
    "* what is the use of `self` in python class ?\n",
    "\n",
    "## generic questions\n",
    "* how to get the absolute path of current script ?\n",
    "* write code to read, write and append data to text file ?\n",
    "* write code to read and write data to json file ?\n",
    "* how to comment code in python ?\n",
    "* how to document a function ? write example.\n",
    "* what is threading ? when to use ? and write code to execute 3 functions in individual threads ?"
   ]
  },
  {
   "cell_type": "markdown",
   "metadata": {},
   "source": [
    "# questions on python flow control"
   ]
  },
  {
   "cell_type": "markdown",
   "metadata": {},
   "source": [
    "Question 1. What would be the output for the following piece of code?"
   ]
  },
  {
   "cell_type": "code",
   "execution_count": null,
   "metadata": {},
   "outputs": [],
   "source": [
    "animals = [ 'cat', 'dog']\n",
    "for pet in animals:\n",
    "    pet.upper()\n",
    "print(animals)"
   ]
  },
  {
   "cell_type": "markdown",
   "metadata": {},
   "source": [
    "Question 2. What would be the output of the following code?"
   ]
  },
  {
   "cell_type": "code",
   "execution_count": null,
   "metadata": {},
   "outputs": [],
   "source": [
    "for i in range(len(animals)):\n",
    "    animals[i] = animals[i].upper()\n",
    "print(animals)"
   ]
  },
  {
   "cell_type": "markdown",
   "metadata": {},
   "source": [
    "Question 3. What would be the output of the following code?"
   ]
  },
  {
   "cell_type": "code",
   "execution_count": null,
   "metadata": {},
   "outputs": [],
   "source": [
    "numbers = [1,2,3,4]\n",
    "for i in numbers:\n",
    "    numbers.append(i + 1)\n",
    "print(numbers)"
   ]
  },
  {
   "cell_type": "markdown",
   "metadata": {},
   "source": [
    "Question 4. What will be the output for the following code?"
   ]
  },
  {
   "cell_type": "code",
   "execution_count": null,
   "metadata": {},
   "outputs": [],
   "source": [
    "i = 6\n",
    "while True:\n",
    "    if i%4 == 0:\n",
    "        break\n",
    "    print(i)\n",
    "    i -= 2"
   ]
  },
  {
   "cell_type": "markdown",
   "metadata": {},
   "source": [
    "Question 5. Write a code to print the following pattern\n",
    "\n",
    "\\*\n",
    "\n",
    "\\*\\*\n",
    "\n",
    "\\*\\*\\*\n",
    "\n",
    "\\*\\*\\*\\*"
   ]
  },
  {
   "cell_type": "markdown",
   "metadata": {},
   "source": [
    "Question 6. Write code to produce the following pattern\n",
    "\n",
    "1\n",
    "\n",
    "22\n",
    "\n",
    "333\n",
    "\n",
    "4444"
   ]
  },
  {
   "cell_type": "markdown",
   "metadata": {},
   "source": [
    "Question 7. Write a code to generate the following pattern\n",
    "\n",
    "1\n",
    "\n",
    "12\n",
    "\n",
    "123\n",
    "\n",
    "1234"
   ]
  },
  {
   "cell_type": "markdown",
   "metadata": {},
   "source": [
    "Question 8. Write code to print each character in a word entered by the user."
   ]
  },
  {
   "cell_type": "markdown",
   "metadata": {},
   "source": [
    "Question 9. Write code to reverse a string."
   ]
  },
  {
   "cell_type": "markdown",
   "metadata": {},
   "source": [
    "Question 10. What will be the output for the following code?"
   ]
  },
  {
   "cell_type": "code",
   "execution_count": null,
   "metadata": {},
   "outputs": [],
   "source": [
    "a = 0\n",
    "for i in range(5):\n",
    "    a = a+1 \n",
    "    continue \n",
    "print(a)"
   ]
  },
  {
   "cell_type": "markdown",
   "metadata": {},
   "source": [
    "Question 11. What would be the output for the following code?"
   ]
  },
  {
   "cell_type": "code",
   "execution_count": null,
   "metadata": {},
   "outputs": [],
   "source": [
    "for item in ('a','b','c','d'): \n",
    "    print (item) \n",
    "    if item == 'c' : \n",
    "        break \n",
    "    continue"
   ]
  },
  {
   "cell_type": "markdown",
   "metadata": {},
   "source": [
    "Question 12. How would you use a “if ” statement to check whether an integer is even / odd?"
   ]
  },
  {
   "cell_type": "markdown",
   "metadata": {},
   "source": [
    "Question 13. What would be the output of the following code?"
   ]
  },
  {
   "cell_type": "code",
   "execution_count": null,
   "metadata": {},
   "outputs": [],
   "source": [
    "i = j = 10\n",
    "if i > j:\n",
    "    print('i is greater than j')\n",
    "elif i <= j:\n",
    "    print('i is smaller than j')\n",
    "else:\n",
    "    print('both i and j are equal')"
   ]
  },
  {
   "cell_type": "markdown",
   "metadata": {},
   "source": [
    "Question 14. How can the above piece of code be expressed in one single line?"
   ]
  },
  {
   "cell_type": "markdown",
   "metadata": {},
   "source": [
    "Question 15. What will be the output for the following code?"
   ]
  },
  {
   "cell_type": "code",
   "execution_count": null,
   "metadata": {},
   "outputs": [],
   "source": [
    "i = 2\n",
    "j = 16\n",
    "minimum_val = i < j and i or j\n",
    "print(minimum_val)"
   ]
  },
  {
   "cell_type": "markdown",
   "metadata": {},
   "source": [
    "Question 16. What is the meaning of conditional branching?"
   ]
  },
  {
   "cell_type": "markdown",
   "metadata": {},
   "source": [
    "Question 17. What would be the output for the following code?"
   ]
  },
  {
   "cell_type": "code",
   "execution_count": null,
   "metadata": {},
   "outputs": [],
   "source": [
    "a = 0\n",
    "b = 9\n",
    "i = [True, False] [a > b]\n",
    "print(i)"
   ]
  },
  {
   "cell_type": "markdown",
   "metadata": {},
   "source": [
    "Question 18. What is the difference between the continue and pass statement?"
   ]
  },
  {
   "cell_type": "markdown",
   "metadata": {},
   "source": [
    "Question 19. What are the two major loop statements?"
   ]
  },
  {
   "cell_type": "markdown",
   "metadata": {},
   "source": [
    "Question 20. What happens if you put an else statement after a for loop block?"
   ]
  },
  {
   "cell_type": "markdown",
   "metadata": {},
   "source": [
    "# questions on python exceptions"
   ]
  },
  {
   "cell_type": "markdown",
   "metadata": {},
   "source": [
    "1. What happens if the file is not found in the following Python code?"
   ]
  },
  {
   "cell_type": "code",
   "execution_count": null,
   "metadata": {},
   "outputs": [],
   "source": [
    "try:\n",
    "    f_n = input(\"Enter file name\")\n",
    "    i_f = open(f_n, 'r')\n",
    "except:\n",
    "    print(\"Input file not found\")"
   ]
  },
  {
   "cell_type": "markdown",
   "metadata": {},
   "source": [
    "2. How many except statements can a try-except block have?"
   ]
  },
  {
   "cell_type": "markdown",
   "metadata": {},
   "source": [
    "3. What will be the output of the following Python code?"
   ]
  },
  {
   "cell_type": "code",
   "execution_count": null,
   "metadata": {},
   "outputs": [],
   "source": [
    "def foo():\n",
    "    try:\n",
    "        return 1\n",
    "    finally:\n",
    "        return 2\n",
    "k = foo()\n",
    "print(k)"
   ]
  },
  {
   "cell_type": "markdown",
   "metadata": {},
   "source": [
    "4. What will be the output of the following Python code?"
   ]
  },
  {
   "cell_type": "code",
   "execution_count": null,
   "metadata": {},
   "outputs": [],
   "source": [
    "def foo():\n",
    "    try:\n",
    "        print(1)\n",
    "    finally:\n",
    "        print(2)\n",
    "foo()"
   ]
  },
  {
   "cell_type": "markdown",
   "metadata": {},
   "source": [
    "5. What happens when ‘1’ == 1 is executed?"
   ]
  },
  {
   "cell_type": "code",
   "execution_count": null,
   "metadata": {},
   "outputs": [],
   "source": [
    "'1' == 1"
   ]
  }
 ],
 "metadata": {
  "kernelspec": {
   "display_name": "venv",
   "language": "python",
   "name": "python3"
  },
  "language_info": {
   "codemirror_mode": {
    "name": "ipython",
    "version": 3
   },
   "file_extension": ".py",
   "mimetype": "text/x-python",
   "name": "python",
   "nbconvert_exporter": "python",
   "pygments_lexer": "ipython3",
   "version": "3.6.8"
  },
  "orig_nbformat": 4
 },
 "nbformat": 4,
 "nbformat_minor": 2
}
