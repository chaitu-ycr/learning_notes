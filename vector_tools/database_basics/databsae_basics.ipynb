{
 "cells": [
  {
   "cell_type": "markdown",
   "metadata": {},
   "source": [
    "# Database Basics Notes\n",
    "\n",
    "## how to create DBC using vector CANoe DB editor [watch this](https://www.youtube.com/watch?v=8QM7oin8P4E&list=PLrnTeM8HIzQPXhLQ9KB8-7lYuIfivhsjv&index=1)\n",
    "\n",
    "## sample Vector CANoe databases available here [click here](sample_databases)\n",
    "> [!NOTE]\n",
    "> all databases are copied from vector CANoe demo configurations.\n"
   ]
  },
  {
   "cell_type": "markdown",
   "metadata": {},
   "source": [
    "## how to use `cantools` python package to read database content"
   ]
  },
  {
   "cell_type": "markdown",
   "metadata": {},
   "source": [
    "create python virtual environment, activate virtual environment and upgrade pip"
   ]
  },
  {
   "cell_type": "code",
   "execution_count": null,
   "metadata": {},
   "outputs": [],
   "source": [
    "%python -m venv .venv\n",
    "%.venv\\Scripts\\activate\n",
    "%python -m pip install pip --upgrade"
   ]
  },
  {
   "cell_type": "markdown",
   "metadata": {},
   "source": [
    "install [cantools](https://cantools.readthedocs.io/en/latest/) python package"
   ]
  },
  {
   "cell_type": "code",
   "execution_count": null,
   "metadata": {},
   "outputs": [],
   "source": [
    "%pip install cantools"
   ]
  },
  {
   "cell_type": "markdown",
   "metadata": {},
   "source": [
    "import cantools and load database file"
   ]
  },
  {
   "cell_type": "code",
   "execution_count": 1,
   "metadata": {},
   "outputs": [],
   "source": [
    "import cantools\n",
    "db = cantools.database.load_file('./sample_databases/PowerTrain.dbc')"
   ]
  },
  {
   "cell_type": "markdown",
   "metadata": {},
   "source": [
    "print database ECU nodes and messages"
   ]
  },
  {
   "cell_type": "code",
   "execution_count": 2,
   "metadata": {},
   "outputs": [
    {
     "name": "stdout",
     "output_type": "stream",
     "text": [
      "nodes:\n",
      "--> Engine\n",
      "--> Gateway\n",
      "messages:\n",
      "--> Diag_Request\n",
      "--> Diag_Response\n",
      "--> Ignition_Info\n",
      "--> DiagResponse_Motor\n",
      "--> DiagRequest_Motor\n",
      "--> NM_Engine\n",
      "--> NM_Gateway_PowerTrain\n",
      "--> GearBoxInfo\n",
      "--> EngineStatus\n",
      "--> EngineDataIEEE\n",
      "--> EngineData\n",
      "--> ABSdata\n"
     ]
    }
   ],
   "source": [
    "print('nodes:')\n",
    "for node in db.nodes:\n",
    "    print(f'--> {node.name}')\n",
    "print('messages:')\n",
    "for message in db.messages:\n",
    "    print(f'--> {message.name}')"
   ]
  },
  {
   "cell_type": "markdown",
   "metadata": {},
   "source": [
    "print all signals in database"
   ]
  },
  {
   "cell_type": "code",
   "execution_count": 3,
   "metadata": {},
   "outputs": [
    {
     "name": "stdout",
     "output_type": "stream",
     "text": [
      "Diag_Request:\n",
      "Diag_Response:\n",
      "Ignition_Info:\n",
      "--> StarterKey\n",
      "DiagResponse_Motor:\n",
      "DiagRequest_Motor:\n",
      "NM_Engine:\n",
      "--> SleepInd\n",
      "NM_Gateway_PowerTrain:\n",
      "--> SleepInd\n",
      "GearBoxInfo:\n",
      "--> Gear\n",
      "--> ShiftRequest\n",
      "--> EcoMode\n",
      "EngineStatus:\n",
      "--> Status\n",
      "--> ErrorCode\n",
      "EngineDataIEEE:\n",
      "--> EngSpeed\n",
      "--> EngForce\n",
      "EngineData:\n",
      "--> EngSpeed\n",
      "--> EngTemp\n",
      "--> IdleRunning\n",
      "--> PetrolLevel\n",
      "--> EngForce\n",
      "--> EngPower\n",
      "ABSdata:\n",
      "--> CarSpeed\n",
      "--> GearLock\n",
      "--> Diagnostics\n",
      "--> AccelerationForce\n"
     ]
    }
   ],
   "source": [
    "for message in db.messages:\n",
    "    print(f'{message.name}:')\n",
    "    for signal in message.signals:\n",
    "        print(f'--> {signal.name}')"
   ]
  }
 ],
 "metadata": {
  "kernelspec": {
   "display_name": ".venv",
   "language": "python",
   "name": "python3"
  },
  "language_info": {
   "codemirror_mode": {
    "name": "ipython",
    "version": 3
   },
   "file_extension": ".py",
   "mimetype": "text/x-python",
   "name": "python",
   "nbconvert_exporter": "python",
   "pygments_lexer": "ipython3",
   "version": "3.9.13"
  }
 },
 "nbformat": 4,
 "nbformat_minor": 2
}
